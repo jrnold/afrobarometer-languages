{
 "cells": [
  {
   "cell_type": "code",
   "execution_count": 2,
   "metadata": {
    "collapsed": true
   },
   "outputs": [],
   "source": [
    "import yaml\n",
    "def dump_yaml(data, filename):\n",
    "    Dumper = yaml.SafeDumper\n",
    "    Dumper.ignore_aliases = lambda self, data: True\n",
    "    with open(filename, 'w', encoding='utf8') as f:\n",
    "        yaml.dump(data, f, Dumper = Dumper,\n",
    "                  default_flow_style=False, allow_unicode=True)\n"
   ]
  },
  {
   "cell_type": "code",
   "execution_count": 3,
   "metadata": {
    "collapsed": true
   },
   "outputs": [],
   "source": [
    "import shutil\n",
    "\n",
    "def update_mappings(func):\n",
    "    \"\"\" Update the mappings\n",
    "    \n",
    "    \"\"\"\n",
    "    for r in range(1, 7):\n",
    "        filename = \"../data-raw/afrobarometer-mappings/r%d.yml\" % r\n",
    "        # backup file\n",
    "        shutil.copy(filename, filename + '.bak')\n",
    "        with open(filename, 'r') as f:\n",
    "            data = yaml.load(f)\n",
    "        # transforms data in place\n",
    "        for entry in data:\n",
    "            func(entry, r)\n",
    "        dump_yaml(data, filename)"
   ]
  },
  {
   "cell_type": "code",
   "execution_count": 4,
   "metadata": {
    "collapsed": true
   },
   "outputs": [],
   "source": [
    "def update_other_mappings(func):\n",
    "    \"\"\" Update the other mappings\n",
    "    \n",
    "    \"\"\"\n",
    "    filename = \"../data-raw/afrobarometer-mappings-other.yml\" % r\n",
    "    # backup file\n",
    "    shutil.copy(filename, filename + '.bak')\n",
    "    with open(filename, 'r') as f:\n",
    "        data = yaml.load(f)\n",
    "    # transforms data in place\n",
    "    for entry in data:\n",
    "        func(entry)\n",
    "    dump_yaml(data, filename)"
   ]
  },
  {
   "cell_type": "code",
   "execution_count": 5,
   "metadata": {
    "collapsed": true
   },
   "outputs": [],
   "source": [
    "import yaml\n",
    "with open(\"../data-raw/afrobarometer-mappings/r%d.yml\" % 6, 'r') as f:\n",
    "    data = yaml.load(f)"
   ]
  },
  {
   "cell_type": "markdown",
   "metadata": {},
   "source": [
    "Update format of wals codes. Now they include values and filters."
   ]
  },
  {
   "cell_type": "code",
   "execution_count": 6,
   "metadata": {
    "collapsed": true
   },
   "outputs": [],
   "source": [
    "def update_wals_codes(entry, r):\n",
    "    entry['wals_codes'] = entry[\"wals_code\"]\n",
    "    del entry[\"wals_code\"]\n",
    "    if entry[\"wals_codes\"] is not None:\n",
    "        if \"values\" in entry[\"wals_codes\"]:\n",
    "            entry[\"wals_codes\"] = entry[\"wals_codes\"][\"values\"]\n",
    "        elif \"filter\" in entry[\"wals_codes\"]:\n",
    "            entry[\"wals_codes\"] = None"
   ]
  },
  {
   "cell_type": "code",
   "execution_count": 42,
   "metadata": {
    "collapsed": true
   },
   "outputs": [],
   "source": [
    "pstation = {'county_id': 1, 'const_id': 1, 'ward_id': 1, 'pcentre_id': 1, 'pstation_id': 1}"
   ]
  },
  {
   "cell_type": "code",
   "execution_count": 44,
   "metadata": {},
   "outputs": [
    {
     "data": {
      "text/plain": [
       "'https://public.rts.iebc.or.ke/jsons/round1/results/foo%2F1/info.json'"
      ]
     },
     "execution_count": 44,
     "metadata": {},
     "output_type": "execute_result"
    }
   ],
   "source": [
    "info_url(\"foo\", pstation, \"round\")"
   ]
  },
  {
   "cell_type": "code",
   "execution_count": 21,
   "metadata": {},
   "outputs": [
    {
     "data": {
      "text/plain": [
       "'https://public.rts.iebc.or.ke/jsons/round1/results/Foo%2F1%2F1001%2F1001001%2F10010010001%2F10010010001001%2F1001001000100101/info.json'"
      ]
     },
     "execution_count": 21,
     "metadata": {},
     "output_type": "execute_result"
    }
   ],
   "source": [
    "from itertools import accumulate\n",
    "import urllib\n",
    "import furl\n",
    "info_url(\"Foo\", {\"county_id\":1, \"const_id\":1, \"ward_id\":1, \"pcentre_id\":1, \"pstation_id\":1}, \"county\")"
   ]
  },
  {
   "cell_type": "code",
   "execution_count": 22,
   "metadata": {
    "collapsed": true
   },
   "outputs": [],
   "source": [
    "from collections import OrderedDict\n",
    "levels = OrderedDict(((\"county\", \"%03d\"),\n",
    "                         (\"const\", \"%03d\"),\n",
    "                         (\"ward\", \"%04d\"),\n",
    "                         (\"pcentre\", \"%03d\"),\n",
    "                         (\"pstation\", \"%02d\")))\n"
   ]
  },
  {
   "cell_type": "code",
   "execution_count": 26,
   "metadata": {},
   "outputs": [
    {
     "data": {
      "text/plain": [
       "0"
      ]
     },
     "execution_count": 26,
     "metadata": {},
     "output_type": "execute_result"
    }
   ],
   "source": [
    "list(levels.keys()).index(\"county\")"
   ]
  }
 ],
 "metadata": {
  "anaconda-cloud": {},
  "kernelspec": {
   "display_name": "Python 3",
   "language": "python",
   "name": "python3"
  },
  "language_info": {
   "codemirror_mode": {
    "name": "ipython",
    "version": 3
   },
   "file_extension": ".py",
   "mimetype": "text/x-python",
   "name": "python",
   "nbconvert_exporter": "python",
   "pygments_lexer": "ipython3",
   "version": "3.6.2"
  }
 },
 "nbformat": 4,
 "nbformat_minor": 1
}
