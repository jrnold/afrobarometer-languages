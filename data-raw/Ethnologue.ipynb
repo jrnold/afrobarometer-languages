{
 "cells": [
  {
   "cell_type": "markdown",
   "metadata": {},
   "source": [
    "Code to get the Ethnologue hierarchy and turn it into distances between languages"
   ]
  },
  {
   "cell_type": "code",
   "execution_count": 226,
   "metadata": {
    "collapsed": true
   },
   "outputs": [],
   "source": [
    "import json\n",
    "import re\n",
    "import sys\n",
    "\n",
    "import requests\n",
    "import lxml.html\n",
    "from lxml import etree\n",
    "\n",
    "def get_family(path):\n",
    "    print(\"getting \" + path)\n",
    "    r = requests.get(\"https://www.ethnologue.com\" + path)\n",
    "    html = lxml.html.fromstring(r.text, \"lxml\")\n",
    "    return path, parse_family(html)\n",
    "\n",
    "def parse_family(html):\n",
    "    ethn_tree = html.cssselect(\"div.view-family.view-id-family.ethn-tree\")[0]\n",
    "    divs = ethn_tree.findall(\"div\")\n",
    "    # flat tree\n",
    "    if len(divs) == 1:\n",
    "        return parse_family1(divs[0])\n",
    "    elif len(divs) == 2:\n",
    "        return parse_family2(divs)\n",
    "    else:\n",
    "        print(\"Unknown number of divs in \", path)\n",
    "\n",
    "def parse_subgroup_text(x):\n",
    "    return dict(zip(('name', 'number'),\n",
    "                      re.match(r\"(.*) \\((\\d+)\\)$\", x).groups()))\n",
    "\n",
    "def parse_lang(el):\n",
    "    data = {}\n",
    "    path = el.xpath('.//a[contains(@href, \"/language/\")]')[0].get(\"href\")\n",
    "    data[\"name\"] = el.xpath(\".//span[contains(@class, 'field-content')]/text()[1]\")[0].strip()\n",
    "    data[\"iso_code\"] = el.xpath(\".//a[contains(@href, '/language/')]/text()\")[0][1:-1]\n",
    "    data[\"country\"] = {\n",
    "      \"path\": el.xpath(\".//a[contains(@href, '/country/')]\")[0].get(\"href\"),\n",
    "      \"name\": el.xpath(\".//a[contains(@href, '/country/')]/text()\")[0]\n",
    "    }\n",
    "    return (path, data)\n",
    "\n",
    "def parse_family1(el):\n",
    "    \"\"\" Parse language family with no-subgroups \"\"\"\n",
    "    langs = el.cssselect(\"li.lang-indent\")\n",
    "    data = parse_subgroup_text(el.cssselect(\"div.views-field-name-1 > span.field-content\")[0].text)\n",
    "    data['languages'] = dict(parse_lang(x) for x in langs)\n",
    "    return data\n",
    "\n",
    "def parse_family2(divs):\n",
    "    \"\"\" Parse language family with subgroups \"\"\"\n",
    "    data = parse_subgroup_text(divs[0].\n",
    "      cssselect(\"div.views-field-name-1 > span.field-content\")[0].text)\n",
    "    item_list = divs[1].xpath(\"div[@class='item-list']/ul\")[0]\n",
    "    data['subgroups'] = parse_item_list(item_list)\n",
    "    return data\n",
    "\n",
    "def parse_item_list(el):\n",
    "    return dict(parse_item(li) for li in el.findall(\"li\"))\n",
    "\n",
    "def parse_item(el):\n",
    "    path = el.find(\"a\").get(\"href\")\n",
    "    data = parse_subgroup_text(el.find(\"a\").text.strip())\n",
    "    print(path)\n",
    "    langs = el.xpath(\"div[contains(@class, 'view-id-language')]//li[contains(@class, 'lang-indent')]\")\n",
    "    if len(langs):\n",
    "        data['languages'] = dict(parse_lang(x) for x in langs)\n",
    "        print(str(len(data['languages'])) + \" languages\")\n",
    "    else:\n",
    "        data['languages'] = []\n",
    "    item_list = el.xpath(\"div[@class='item-list']\")\n",
    "    if len(item_list):\n",
    "        data['subgroups'] = dict(parse_item_list(item_list[0].find(\"ul\")))\n",
    "    else:\n",
    "        data['subgroups'] = []\n",
    "    return (path, data)\n",
    "\n",
    "def get_all_families():\n",
    "    r = requests.get(\"https://www.ethnologue.com/browse/families\")\n",
    "    html = lxml.html.fromstring(r.text)\n",
    "    families = [a.get(\"href\") for a in html.xpath(\"//a[contains(@href, '/subgroups/')]\")]\n",
    "    return dict([get_family(x) for x in families])\n"
   ]
  },
  {
   "cell_type": "markdown",
   "metadata": {},
   "source": [
    "The original way I parsed the data was stupid. This fixes some of it."
   ]
  },
  {
   "cell_type": "code",
   "execution_count": 227,
   "metadata": {},
   "outputs": [],
   "source": [
    "def better_tree(key, tree):\n",
    "    newtree = {k: v for k, v in tree.items() if k not in ['subgroups', 'languages']}\n",
    "    newtree['path'] = key\n",
    "    newtree['language'] = 'iso_code' in tree\n",
    "    newtree['children'] = []\n",
    "    for i in ('languages', 'subgroups'):\n",
    "        if i in tree and len(tree[i]):\n",
    "            try:\n",
    "                for k, v in tree[i].items():\n",
    "                    newtree['children'] += [better_tree(k, v)]\n",
    "            except AttributeError as e:\n",
    "                raise e\n",
    "    return newtree\n"
   ]
  },
  {
   "cell_type": "code",
   "execution_count": 228,
   "metadata": {},
   "outputs": [],
   "source": [
    "import json\n",
    "with open('../data-raw/ethnologue-tree.json', 'r') as f:\n",
    "    ethnologue = json.load(f)\n",
    "# ethnologue = get_all_families()"
   ]
  },
  {
   "cell_type": "code",
   "execution_count": 229,
   "metadata": {},
   "outputs": [],
   "source": [
    "ethnologue_tree = [better_tree(k, v) for k, v in ethnologue.items()]"
   ]
  },
  {
   "cell_type": "markdown",
   "metadata": {},
   "source": [
    "Generate paths for each ethnologue language"
   ]
  },
  {
   "cell_type": "code",
   "execution_count": 254,
   "metadata": {},
   "outputs": [],
   "source": [
    "def build_paths(node, root = None):\n",
    "    if node['language']:\n",
    "        return [{'iso_code': node['iso_code'], 'path': []}]\n",
    "    else:\n",
    "        out = []\n",
    "        name = node['name']\n",
    "        for chld in node['children']:\n",
    "            for x in build_paths(chld):\n",
    "                x['path'] = [name] + x['path']\n",
    "                out.append(x)\n",
    "        return out\n",
    "        \n",
    "lang_paths = []\n",
    "for family in [build_paths(x) for x in ethnologue_tree]:\n",
    "    for x in family:\n",
    "        lang_paths.append({'iso_code': x['iso_code'], 'path': x['path'], 'family': x['path'][0]})"
   ]
  },
  {
   "cell_type": "code",
   "execution_count": 261,
   "metadata": {},
   "outputs": [
    {
     "data": {
      "text/plain": [
       "{'family': 'Niger-Congo',\n",
       " 'iso_code': 'gbs',\n",
       " 'path': ['Niger-Congo',\n",
       "  'Atlantic-Congo',\n",
       "  'Volta-Congo',\n",
       "  'Kwa',\n",
       "  'Left Bank',\n",
       "  'Gbe']}"
      ]
     },
     "execution_count": 261,
     "metadata": {},
     "output_type": "execute_result"
    }
   ],
   "source": [
    "lang_paths[5000]"
   ]
  },
  {
   "cell_type": "markdown",
   "metadata": {},
   "source": [
    "Generate data with distances between languages in the ethnologue. This distance is directed. It is the distance to the closest shared ancestor on the tree."
   ]
  },
  {
   "cell_type": "code",
   "execution_count": 273,
   "metadata": {},
   "outputs": [],
   "source": [
    "def seqdist(x, y):\n",
    "    for i in range(len(x)):\n",
    "        if i >= len(y) or x[i] != y[i]:\n",
    "            return len(x) - i\n",
    "    return 0\n",
    "\n",
    "lang_dists = []\n",
    "jj = 0\n",
    "for i, x in enumerate(lang_paths):\n",
    "    for w in lang_paths:\n",
    "        if (x['iso_code'] != w['iso_code']) and (x['family'] == w['family']):\n",
    "            d = {'from': x['iso_code'], 'to': w['iso_code'], 'distance': seqdist(x['path'], w['path']) + 1}\n",
    "            lang_dists.append(d)\n",
    "lang_dists = sorted(lang_dists, key = lambda x: (x['from'], x['distance'], x['to']))"
   ]
  },
  {
   "cell_type": "code",
   "execution_count": 274,
   "metadata": {},
   "outputs": [],
   "source": [
    "import csv\n",
    "with open(\"../data-raw/ethnologue-distances.csv\", 'w') as f:\n",
    "    writer = csv.DictWriter(f, fieldnames=('from', 'to', 'distance'))\n",
    "    writer.writeheader()\n",
    "    writer.writerows(lang_dists)"
   ]
  },
  {
   "cell_type": "code",
   "execution_count": 277,
   "metadata": {},
   "outputs": [
    {
     "data": {
      "text/plain": [
       "1006000"
      ]
     },
     "execution_count": 277,
     "metadata": {},
     "output_type": "execute_result"
    }
   ],
   "source": [
    "1000 ** 2 + 150 * 40"
   ]
  },
  {
   "cell_type": "code",
   "execution_count": null,
   "metadata": {
    "collapsed": true
   },
   "outputs": [],
   "source": []
  }
 ],
 "metadata": {
  "anaconda-cloud": {},
  "kernelspec": {
   "display_name": "Python [conda root]",
   "language": "python",
   "name": "conda-root-py"
  },
  "language_info": {
   "codemirror_mode": {
    "name": "ipython",
    "version": 3
   },
   "file_extension": ".py",
   "mimetype": "text/x-python",
   "name": "python",
   "nbconvert_exporter": "python",
   "pygments_lexer": "ipython3",
   "version": "3.5.3"
  }
 },
 "nbformat": 4,
 "nbformat_minor": 1
}
