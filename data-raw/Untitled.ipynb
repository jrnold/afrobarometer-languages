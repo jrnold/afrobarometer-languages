{
 "cells": [
  {
   "cell_type": "code",
   "execution_count": 49,
   "metadata": {
    "collapsed": true
   },
   "outputs": [],
   "source": [
    "import yaml\n",
    "def dump_yaml(data, filename):\n",
    "    Dumper = yaml.SafeDumper\n",
    "    Dumper.ignore_aliases = lambda self, data: True\n",
    "    with open(filename, 'w', encoding='utf8') as f:\n",
    "        yaml.dump(data, f, Dumper = Dumper,\n",
    "                  default_flow_style=False, allow_unicode=True)\n"
   ]
  },
  {
   "cell_type": "code",
   "execution_count": 52,
   "metadata": {},
   "outputs": [],
   "source": [
    "with open(\"../data-raw/afrobarometer_to_iso/r5.yml\", \"r\") as f:\n",
    "    data = yaml.load(f)\n",
    "\n",
    "langs = {}\n",
    "for row in data:\n",
    "    if row['iso_639_3'] is not None:\n",
    "        langs[row['lang_name']] = row['iso_639_3']"
   ]
  },
  {
   "cell_type": "code",
   "execution_count": 54,
   "metadata": {},
   "outputs": [
    {
     "name": "stdout",
     "output_type": "stream",
     "text": [
      "Lama (Lamba) not found\n",
      "Ifè (Ana) not found\n",
      "Ikposso (Akposso) not found\n",
      "N’Tcha (Bassar) not found\n",
      "Anyanga not found\n",
      "Babjoun not found\n",
      "Banen not found\n",
      "Bayangam not found\n",
      "Mbo not found\n",
      "Ntoumou not found\n",
      "Nyem Nyem not found\n"
     ]
    }
   ],
   "source": [
    "for row in data:\n",
    "    if row['iso_639_3'] is None:\n",
    "        if row['lang_name'] in langs:\n",
    "            row['iso_639_3'] = langs[row['lang_name']]\n",
    "        else:\n",
    "            print(row['lang_name'], \"not found\")\n",
    "            \n",
    "dump_yaml(data, \"r5.yml.new\")\n",
    "    "
   ]
  },
  {
   "cell_type": "code",
   "execution_count": null,
   "metadata": {
    "collapsed": true
   },
   "outputs": [],
   "source": []
  }
 ],
 "metadata": {
  "anaconda-cloud": {},
  "kernelspec": {
   "display_name": "Python [conda root]",
   "language": "python",
   "name": "conda-root-py"
  },
  "language_info": {
   "codemirror_mode": {
    "name": "ipython",
    "version": 3
   },
   "file_extension": ".py",
   "mimetype": "text/x-python",
   "name": "python",
   "nbconvert_exporter": "python",
   "pygments_lexer": "ipython3",
   "version": "3.5.3"
  }
 },
 "nbformat": 4,
 "nbformat_minor": 1
}
