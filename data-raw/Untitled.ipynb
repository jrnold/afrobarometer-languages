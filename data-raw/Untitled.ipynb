{
 "cells": [
  {
   "cell_type": "code",
   "execution_count": 3,
   "metadata": {
    "collapsed": true
   },
   "outputs": [],
   "source": [
    "import yaml\n",
    "def dump_yaml(data, filename):\n",
    "    Dumper = yaml.SafeDumper\n",
    "    Dumper.ignore_aliases = lambda self, data: True\n",
    "    with open(filename, 'w', encoding='utf8') as f:\n",
    "        yaml.dump(data, f, Dumper = Dumper,\n",
    "                  default_flow_style=False, allow_unicode=True)\n"
   ]
  },
  {
   "cell_type": "code",
   "execution_count": 18,
   "metadata": {
    "collapsed": false
   },
   "outputs": [],
   "source": [
    "with open(\"../data-raw/afrobarometer_other_to_iso.yml\", \"r\") as f:\n",
    "    data = yaml.load(f)\n",
    "\n",
    "import csv\n",
    "from unidecode import unidecode\n",
    "\n",
    "with open('../external/ethnologue/Language_Code_Data_20170221/LanguageCodes.tab', 'r') as f:\n",
    "    reader = csv.DictReader(f, delimiter = '\\t')\n",
    "    langs = {}\n",
    "    for row in reader:\n",
    "        if row[\"LangStatus\"] == \"L\":\n",
    "            langs[row['LangID']] = row[\"Name\"]\n",
    "\n",
    "with open('../external/ethnologue/Language_Code_Data_20170221/LanguageIndex.tab', 'r') as f:\n",
    "    reader = csv.DictReader(f, delimiter = '\\t')\n",
    "    langidx = {}\n",
    "    for row in reader:\n",
    "        if row['LangID'] in langs:\n",
    "            key = (row['CountryID'], \n",
    "                   unidecode(row['Name']).lower())\n",
    "            langidx[key] = row['LangID']\n",
    "        \n"
   ]
  },
  {
   "cell_type": "code",
   "execution_count": 20,
   "metadata": {
    "collapsed": false
   },
   "outputs": [],
   "source": [
    "for row in data:\n",
    "    key = (row['country'], row['lang_name'])    \n",
    "    if key in langidx:\n",
    "        if row['iso_639'] is None:\n",
    "            row['iso_639'] = [langidx[key]]\n",
    "        else:\n",
    "            row['iso_639'] += [langidx[key]]\n",
    "\n",
    "\n",
    "            \n",
    "            "
   ]
  },
  {
   "cell_type": "code",
   "execution_count": 23,
   "metadata": {
    "collapsed": false
   },
   "outputs": [],
   "source": [
    "dump_yaml(data, \"../data-raw/afrobarometer_other_to_iso2.yml\")"
   ]
  },
  {
   "cell_type": "code",
   "execution_count": null,
   "metadata": {
    "collapsed": true
   },
   "outputs": [],
   "source": []
  }
 ],
 "metadata": {
  "anaconda-cloud": {},
  "kernelspec": {
   "display_name": "Python [conda root]",
   "language": "python",
   "name": "conda-root-py"
  },
  "language_info": {
   "codemirror_mode": {
    "name": "ipython",
    "version": 3
   },
   "file_extension": ".py",
   "mimetype": "text/x-python",
   "name": "python",
   "nbconvert_exporter": "python",
   "pygments_lexer": "ipython3",
   "version": "3.5.2"
  }
 },
 "nbformat": 4,
 "nbformat_minor": 1
}
