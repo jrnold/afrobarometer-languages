{
 "cells": [
  {
   "cell_type": "code",
   "execution_count": 69,
   "metadata": {
    "collapsed": true
   },
   "outputs": [],
   "source": [
    "import yaml\n",
    "def dump_yaml(data, filename):\n",
    "    Dumper = yaml.SafeDumper\n",
    "    Dumper.ignore_aliases = lambda self, data: True\n",
    "    with open(filename, 'w', encoding='utf8') as f:\n",
    "        yaml.dump(data, f, Dumper = Dumper,\n",
    "                  default_flow_style=False, allow_unicode=True)\n"
   ]
  },
  {
   "cell_type": "code",
   "execution_count": 107,
   "metadata": {
    "collapsed": false
   },
   "outputs": [],
   "source": [
    "def update_mappings(r):\n",
    "    to_iso = \"../data-raw/afrobarometer_to_iso/r%d.yml\" % r\n",
    "    to_wals = \"../data-raw/afrobarometer_to_wals/r%d.yml\" % r\n",
    "    out = \"../data-raw/afrobarometer-mappings/r%d.yml\" % r\n",
    "    with open(to_wals, 'r') as f:\n",
    "        data_wals = yaml.load(f)\n",
    "\n",
    "    with open(to_iso, 'r') as f:\n",
    "        data_iso = yaml.load(f)\n",
    "        \n",
    "    newdata = {}\n",
    "    for row in data_iso:\n",
    "        try:\n",
    "            key = (row['lang_id'], tuple(sorted(row['question'])))\n",
    "        except KeyError as e:\n",
    "            print(row)\n",
    "            raise e\n",
    "        row['wals_code'] = None\n",
    "        newdata[key] = row   \n",
    "        \n",
    "    for row in data_wals:\n",
    "        try:\n",
    "            key = (row['lang_id'], tuple(sorted(row['question'])))\n",
    "        except KeyError as e:\n",
    "            print(row)\n",
    "            raise e\n",
    "        try:\n",
    "            newdata[key]['wals_code'] = row['wals_code']\n",
    "        except KeyError as e:\n",
    "            print(row)\n",
    "            # raise e\n",
    "\n",
    "    newdata = sorted([x for x in newdata.values()], key = lambda x: (x['lang_id'], tuple(sorted(x['question']))))\n",
    "    for row in newdata:\n",
    "        row['question'] = sorted(row['question'])\n",
    "        row['iso_639_3'] = sorted(row['iso_639_3'])\n",
    "        if row['wals_code'] is not None:\n",
    "            row['wals_code'] = sorted(row['wals_code'])\n",
    "        if 'note' in row and row['note'] is not None:\n",
    "            row['note'] = row['note'].strip()\n",
    "    \n",
    "    dump_yaml(newdata, out)"
   ]
  },
  {
   "cell_type": "code",
   "execution_count": 108,
   "metadata": {
    "collapsed": false
   },
   "outputs": [
    {
     "name": "stdout",
     "output_type": "stream",
     "text": [
      "1\n",
      "2\n",
      "3\n",
      "4\n",
      "5\n",
      "6\n"
     ]
    }
   ],
   "source": [
    "for r in range(1, 7):\n",
    "    print(r)\n",
    "    update_mappings(r)"
   ]
  },
  {
   "cell_type": "markdown",
   "metadata": {
    "collapsed": false
   },
   "source": [
    "Add WALS mappings"
   ]
  },
  {
   "cell_type": "code",
   "execution_count": null,
   "metadata": {
    "collapsed": false
   },
   "outputs": [],
   "source": [
    "\n",
    "    "
   ]
  },
  {
   "cell_type": "code",
   "execution_count": 73,
   "metadata": {
    "collapsed": false
   },
   "outputs": [],
   "source": []
  },
  {
   "cell_type": "code",
   "execution_count": 75,
   "metadata": {
    "collapsed": false
   },
   "outputs": [
    {
     "data": {
      "text/plain": [
       "[['por'], ['ger']]"
      ]
     },
     "execution_count": 75,
     "metadata": {},
     "output_type": "execute_result"
    }
   ],
   "source": []
  },
  {
   "cell_type": "code",
   "execution_count": null,
   "metadata": {
    "collapsed": true
   },
   "outputs": [],
   "source": []
  }
 ],
 "metadata": {
  "anaconda-cloud": {},
  "kernelspec": {
   "display_name": "Python [conda root]",
   "language": "python",
   "name": "conda-root-py"
  },
  "language_info": {
   "codemirror_mode": {
    "name": "ipython",
    "version": 3
   },
   "file_extension": ".py",
   "mimetype": "text/x-python",
   "name": "python",
   "nbconvert_exporter": "python",
   "pygments_lexer": "ipython3",
   "version": "3.5.2"
  }
 },
 "nbformat": 4,
 "nbformat_minor": 1
}
