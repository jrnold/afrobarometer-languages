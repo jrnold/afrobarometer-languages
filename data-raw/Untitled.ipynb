{
 "cells": [
  {
   "cell_type": "code",
   "execution_count": 3,
   "metadata": {
    "collapsed": true
   },
   "outputs": [],
   "source": [
    "import yaml\n",
    "def fixup(filename):\n",
    "    with open(filename, 'r', encoding='utf8') as f:\n",
    "        data = yaml.load(f)\n",
    "    for row in data:\n",
    "        if isinstance(row['question'][0], list):\n",
    "            row['question'] = row['question'][0]\n",
    "    Dumper = yaml.SafeDumper\n",
    "    Dumper.ignore_aliases = lambda self, data: True\n",
    "    with open(filename + '.new', 'w', encoding='utf8') as f:\n",
    "        yaml.dump(data, f, Dumper = Dumper, default_flow_style=False, allow_unicode=True)\n",
    "        "
   ]
  },
  {
   "cell_type": "code",
   "execution_count": 5,
   "metadata": {
    "collapsed": false
   },
   "outputs": [],
   "source": [
    "fixup(\"afrobarometer_r3_to_iso.yml\")"
   ]
  },
  {
   "cell_type": "code",
   "execution_count": 9,
   "metadata": {
    "collapsed": false
   },
   "outputs": [],
   "source": [
    "def lang_mappings(filename):\n",
    "    with open(filename, 'r', encoding='utf8') as f:\n",
    "        data = yaml.load(f)\n",
    "    out = dict((x['lang_name'], x['iso_639_3'])\n",
    "               for x in data if 'iso_639_3' in x)\n",
    "    return out\n",
    "\n",
    "langs = lang_mappings('afrobarometer_r4_to_iso.yml')\n",
    "langs.update(lang_mappings('afrobarometer_r5_to_iso.yml'))\n",
    "langs.update(lang_mappings('afrobarometer_to_iso.yml'))"
   ]
  },
  {
   "cell_type": "code",
   "execution_count": 12,
   "metadata": {
    "collapsed": false
   },
   "outputs": [],
   "source": [
    "filename = 'afrobarometer_r3_to_iso.yml'\n",
    "with open(filename, 'r', encoding='utf8') as f:\n",
    "    data = yaml.load(f)\n",
    "for row in data:\n",
    "    if 'iso_639_3' not in row or not row['iso_639_3']:\n",
    "        if row['lang_name'] in langs:\n",
    "            row['iso_639_3'] = langs[row['lang_name']]\n",
    "Dumper = yaml.SafeDumper\n",
    "Dumper.ignore_aliases = lambda self, data: True\n",
    "with open(filename + '.new', 'w', encoding='utf8') as f:\n",
    "    yaml.dump(data, f, Dumper = Dumper, default_flow_style=False, allow_unicode=True)\n",
    "\n",
    "    "
   ]
  },
  {
   "cell_type": "code",
   "execution_count": null,
   "metadata": {
    "collapsed": true
   },
   "outputs": [],
   "source": []
  }
 ],
 "metadata": {
  "anaconda-cloud": {},
  "kernelspec": {
   "display_name": "Python [conda root]",
   "language": "python",
   "name": "conda-root-py"
  },
  "language_info": {
   "codemirror_mode": {
    "name": "ipython",
    "version": 3
   },
   "file_extension": ".py",
   "mimetype": "text/x-python",
   "name": "python",
   "nbconvert_exporter": "python",
   "pygments_lexer": "ipython3",
   "version": "3.5.2"
  }
 },
 "nbformat": 4,
 "nbformat_minor": 1
}
