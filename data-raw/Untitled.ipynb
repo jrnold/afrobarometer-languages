{
 "cells": [
  {
   "cell_type": "code",
   "execution_count": 42,
   "metadata": {
    "collapsed": true
   },
   "outputs": [],
   "source": [
    "import yaml\n",
    "def dump_yaml(data, filename):\n",
    "    Dumper = yaml.SafeDumper\n",
    "    Dumper.ignore_aliases = lambda self, data: True\n",
    "    with open(filename, 'w', encoding='utf8') as f:\n",
    "        yaml.dump(data, f, Dumper = Dumper,\n",
    "                  default_flow_style=False, allow_unicode=True)\n"
   ]
  },
  {
   "cell_type": "code",
   "execution_count": 43,
   "metadata": {
    "collapsed": true
   },
   "outputs": [],
   "source": [
    "with open(\"../foo.yml\", \"r\") as f:\n",
    "    updates = yaml.load(f)"
   ]
  },
  {
   "cell_type": "code",
   "execution_count": 44,
   "metadata": {
    "collapsed": true
   },
   "outputs": [],
   "source": [
    "filenames = {'r%d' % i : '../data-raw/afrobarometer_to_iso/r%d.yml' % i for i in range(1, 7)}"
   ]
  },
  {
   "cell_type": "code",
   "execution_count": 45,
   "metadata": {
    "collapsed": true
   },
   "outputs": [],
   "source": [
    "newdata = {}\n",
    "for r, fn in filenames.items():\n",
    "    with open(fn, 'r') as f:\n",
    "        data = {}\n",
    "        for x in yaml.load(f):\n",
    "            data[(x['lang_id'], x['lang_name'])] = x\n",
    "        newdata[r] = data\n",
    "    "
   ]
  },
  {
   "cell_type": "code",
   "execution_count": 46,
   "metadata": {
    "collapsed": true
   },
   "outputs": [],
   "source": [
    "for x in updates:\n",
    "    key = (x['value'], x['name'])\n",
    "    r = x['round']\n",
    "    if key in newdata[r]:\n",
    "        newdata[r][key]['question'] += [x['question']]\n",
    "    else:\n",
    "        newdata[r][key] = {\n",
    "            'lang_id': x['value'],\n",
    "            'lang_name': x['name'],\n",
    "            'iso_639_3': None,\n",
    "            'question': [x['question']]\n",
    "        }\n",
    "    \n",
    "\n",
    "    "
   ]
  },
  {
   "cell_type": "code",
   "execution_count": null,
   "metadata": {
    "collapsed": true
   },
   "outputs": [],
   "source": []
  }
 ],
 "metadata": {
  "anaconda-cloud": {},
  "kernelspec": {
   "display_name": "Python [conda root]",
   "language": "python",
   "name": "conda-root-py"
  },
  "language_info": {
   "codemirror_mode": {
    "name": "ipython",
    "version": 3
   },
   "file_extension": ".py",
   "mimetype": "text/x-python",
   "name": "python",
   "nbconvert_exporter": "python",
   "pygments_lexer": "ipython3",
   "version": "3.5.3"
  }
 },
 "nbformat": 4,
 "nbformat_minor": 1
}
